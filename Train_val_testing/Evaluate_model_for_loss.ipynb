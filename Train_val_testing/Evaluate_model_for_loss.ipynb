{
 "cells": [
  {
   "cell_type": "code",
   "execution_count": 45,
   "metadata": {},
   "outputs": [
    {
     "name": "stdout",
     "output_type": "stream",
     "text": [
      "Found 10 patients with 10 files\n",
      "Loaded existing patient splits from /mnt/ssd_4tb_0/data/tuh_preprocessed_npy_test/tuh_patient_splits.pkl\n",
      "Split: val, Patients: 1, Files: 1\n",
      "Total Sequences: 386251\n"
     ]
    }
   ],
   "source": [
    "import sys\n",
    "from transformers import PatchTSTForPretraining\n",
    "\n",
    "sys.path.append('../PatchTST_self_supervised')\n",
    "from src.data.pred_dataset import TUH_Dataset_Test\n",
    "\n",
    "context_length = 2500\n",
    "patch_length = 250\n",
    "\n",
    "tuh_eval_data = TUH_Dataset_Test(\n",
    "    root_path='/mnt/ssd_4tb_0/data/tuh_preprocessed_npy_test',#'/mnt/ssd_4tb_0/data/tuh_preprocessed_npy',\n",
    "    data_path='',\n",
    "    csv_path='../preprocessing/inputs/sub_list2.csv',\n",
    "    features='M',\n",
    "    scale=False,\n",
    "    size=[context_length, 0, patch_length],\n",
    "    use_time_features=False,\n",
    "    split='val'\n",
    ")\n",
    "\n",
    "        "
   ]
  },
  {
   "cell_type": "code",
   "execution_count": 46,
   "metadata": {},
   "outputs": [],
   "source": [
    "import torch\n",
    "from torch.utils.data import DataLoader\n",
    "from tqdm import tqdm\n",
    "\n",
    "batch_size = 256\n",
    "dataloader = DataLoader(tuh_eval_data, batch_size=batch_size, shuffle=False)\n",
    "device = torch.device('cuda:1' if torch.cuda.is_available() else 'cpu')\n",
    "# model.to(device)\n",
    "\n",
    "mask_ratio = 0.4\n",
    "patch_length = 250\n",
    "patch_stride = 250\n",
    "\n",
    "# num patches \n",
    "num_patches = context_length//patch_length\n",
    "\n",
    "\n",
    "def evaluate_model(model, dataloader, mask_ratio):\n",
    "    model.to(device)\n",
    "    model.eval()\n",
    "    total_loss = 0\n",
    "    num_batches = 0\n",
    "    loss_fn = torch.nn.MSELoss()\n",
    "\n",
    "    for batch in tqdm(dataloader):\n",
    "        seq_x = batch['past_values'].to(device)  \n",
    "\n",
    "        with torch.no_grad():\n",
    "            outputs = model(seq_x)\n",
    "\n",
    "        total_loss += outputs['loss']\n",
    "        num_batches += 1\n",
    "\n",
    "    avg_loss = total_loss / num_batches\n",
    "    # print(f\"Validation Loss: {avg_loss:.4f}\")\n",
    "    return avg_loss\n"
   ]
  },
  {
   "cell_type": "code",
   "execution_count": 47,
   "metadata": {},
   "outputs": [
    {
     "name": "stdout",
     "output_type": "stream",
     "text": [
      "Average Train Loss: 0.9725480000000001\n"
     ]
    }
   ],
   "source": [
    "import json\n",
    "import numpy as np\n",
    "path_ = '/home/gayal/ssl-project/PatchTST/PatchTST_self_supervised/saved_models/test_run_10_recordings/outputs/checkpoint-50/trainer_state.json'\n",
    "\n",
    "def get_train_loss(path_):\n",
    "    train_losses = []\n",
    "    with open(path_, 'r') as file:\n",
    "        data = json.load(file)\n",
    "        data_history = data['log_history']\n",
    "        for item in data_history:\n",
    "            if 'loss' in item:\n",
    "                train_losses.append(item['loss'])\n",
    "                # print(item['step'], item['loss'])\n",
    "\n",
    "    # average the train losses\n",
    "    train_losses = np.array(train_losses)\n",
    "    avg_train_loss = np.mean(train_losses)\n",
    "\n",
    "    return avg_train_loss\n",
    "    \n",
    "train_loss = get_train_loss(path_)\n",
    "print(f\"Average Train Loss: {train_loss}\")"
   ]
  },
  {
   "cell_type": "code",
   "execution_count": 48,
   "metadata": {},
   "outputs": [
    {
     "name": "stderr",
     "output_type": "stream",
     "text": [
      "100%|███████████████████████████████████████████████████████████████████████████████████████████████████████████████████████████████████████| 1509/1509 [02:01<00:00, 12.47it/s]\n"
     ]
    },
    {
     "name": "stdout",
     "output_type": "stream",
     "text": [
      "val loss for 50: 0.9648053646087646\n",
      "train loss for 50: 0.9725480000000001\n"
     ]
    },
    {
     "name": "stderr",
     "output_type": "stream",
     "text": [
      "100%|███████████████████████████████████████████████████████████████████████████████████████████████████████████████████████████████████████| 1509/1509 [02:03<00:00, 12.19it/s]\n"
     ]
    },
    {
     "name": "stdout",
     "output_type": "stream",
     "text": [
      "val loss for 100: 0.9589797258377075\n",
      "train loss for 100: 0.9642529999999999\n"
     ]
    },
    {
     "name": "stderr",
     "output_type": "stream",
     "text": [
      "100%|███████████████████████████████████████████████████████████████████████████████████████████████████████████████████████████████████████| 1509/1509 [02:03<00:00, 12.21it/s]\n"
     ]
    },
    {
     "name": "stdout",
     "output_type": "stream",
     "text": [
      "val loss for 150: 0.9444891214370728\n",
      "train loss for 150: 0.9558639999999999\n"
     ]
    },
    {
     "name": "stderr",
     "output_type": "stream",
     "text": [
      "100%|███████████████████████████████████████████████████████████████████████████████████████████████████████████████████████████████████████| 1509/1509 [02:05<00:00, 12.01it/s]\n"
     ]
    },
    {
     "name": "stdout",
     "output_type": "stream",
     "text": [
      "val loss for 200: 0.9367853403091431\n",
      "train loss for 200: 0.9475159999999999\n"
     ]
    },
    {
     "name": "stderr",
     "output_type": "stream",
     "text": [
      "100%|███████████████████████████████████████████████████████████████████████████████████████████████████████████████████████████████████████| 1509/1509 [02:04<00:00, 12.11it/s]\n"
     ]
    },
    {
     "name": "stdout",
     "output_type": "stream",
     "text": [
      "val loss for 250: 0.9330003261566162\n",
      "train loss for 250: 0.9408023999999999\n"
     ]
    },
    {
     "name": "stderr",
     "output_type": "stream",
     "text": [
      "100%|███████████████████████████████████████████████████████████████████████████████████████████████████████████████████████████████████████| 1509/1509 [02:05<00:00, 12.02it/s]\n"
     ]
    },
    {
     "name": "stdout",
     "output_type": "stream",
     "text": [
      "val loss for 300: 0.9286779165267944\n",
      "train loss for 300: 0.9356136666666667\n"
     ]
    },
    {
     "name": "stderr",
     "output_type": "stream",
     "text": [
      "100%|███████████████████████████████████████████████████████████████████████████████████████████████████████████████████████████████████████| 1509/1509 [02:04<00:00, 12.09it/s]\n"
     ]
    },
    {
     "name": "stdout",
     "output_type": "stream",
     "text": [
      "val loss for 350: 0.9205776453018188\n",
      "train loss for 350: 0.9302571428571428\n"
     ]
    },
    {
     "name": "stderr",
     "output_type": "stream",
     "text": [
      "100%|███████████████████████████████████████████████████████████████████████████████████████████████████████████████████████████████████████| 1509/1509 [02:05<00:00, 12.02it/s]\n"
     ]
    },
    {
     "name": "stdout",
     "output_type": "stream",
     "text": [
      "val loss for 400: 0.9120143055915833\n",
      "train loss for 400: 0.9242170000000001\n"
     ]
    },
    {
     "name": "stderr",
     "output_type": "stream",
     "text": [
      "100%|███████████████████████████████████████████████████████████████████████████████████████████████████████████████████████████████████████| 1509/1509 [02:07<00:00, 11.81it/s]\n"
     ]
    },
    {
     "name": "stdout",
     "output_type": "stream",
     "text": [
      "val loss for 450: 0.9090307950973511\n",
      "train loss for 450: 0.9186877777777778\n"
     ]
    },
    {
     "name": "stderr",
     "output_type": "stream",
     "text": [
      "100%|███████████████████████████████████████████████████████████████████████████████████████████████████████████████████████████████████████| 1509/1509 [02:04<00:00, 12.13it/s]\n"
     ]
    },
    {
     "name": "stdout",
     "output_type": "stream",
     "text": [
      "val loss for 500: 0.9079263210296631\n",
      "train loss for 500: 0.9136618\n"
     ]
    },
    {
     "name": "stderr",
     "output_type": "stream",
     "text": [
      "100%|███████████████████████████████████████████████████████████████████████████████████████████████████████████████████████████████████████| 1509/1509 [02:02<00:00, 12.31it/s]\n"
     ]
    },
    {
     "name": "stdout",
     "output_type": "stream",
     "text": [
      "val loss for 550: 0.9068704843521118\n",
      "train loss for 550: 0.9091965454545455\n"
     ]
    },
    {
     "name": "stderr",
     "output_type": "stream",
     "text": [
      "100%|███████████████████████████████████████████████████████████████████████████████████████████████████████████████████████████████████████| 1509/1509 [02:04<00:00, 12.16it/s]\n"
     ]
    },
    {
     "name": "stdout",
     "output_type": "stream",
     "text": [
      "val loss for 600: 0.9051655530929565\n",
      "train loss for 600: 0.9052633333333333\n"
     ]
    },
    {
     "name": "stderr",
     "output_type": "stream",
     "text": [
      "100%|███████████████████████████████████████████████████████████████████████████████████████████████████████████████████████████████████████| 1509/1509 [02:06<00:00, 11.89it/s]\n"
     ]
    },
    {
     "name": "stdout",
     "output_type": "stream",
     "text": [
      "val loss for 650: 0.9047986268997192\n",
      "train loss for 650: 0.9017695384615384\n"
     ]
    },
    {
     "name": "stderr",
     "output_type": "stream",
     "text": [
      "100%|███████████████████████████████████████████████████████████████████████████████████████████████████████████████████████████████████████| 1509/1509 [02:06<00:00, 11.90it/s]\n"
     ]
    },
    {
     "name": "stdout",
     "output_type": "stream",
     "text": [
      "val loss for 700: 0.9039842486381531\n",
      "train loss for 700: 0.8988635714285715\n"
     ]
    },
    {
     "name": "stderr",
     "output_type": "stream",
     "text": [
      "100%|███████████████████████████████████████████████████████████████████████████████████████████████████████████████████████████████████████| 1509/1509 [02:06<00:00, 11.88it/s]\n"
     ]
    },
    {
     "name": "stdout",
     "output_type": "stream",
     "text": [
      "val loss for 750: 0.903205394744873\n",
      "train loss for 750: 0.8961725333333334\n"
     ]
    },
    {
     "name": "stderr",
     "output_type": "stream",
     "text": [
      "100%|███████████████████████████████████████████████████████████████████████████████████████████████████████████████████████████████████████| 1509/1509 [02:07<00:00, 11.82it/s]\n"
     ]
    },
    {
     "name": "stdout",
     "output_type": "stream",
     "text": [
      "val loss for 800: 0.9028676748275757\n",
      "train loss for 800: 0.89382625\n"
     ]
    },
    {
     "name": "stderr",
     "output_type": "stream",
     "text": [
      "100%|███████████████████████████████████████████████████████████████████████████████████████████████████████████████████████████████████████| 1509/1509 [02:07<00:00, 11.82it/s]\n"
     ]
    },
    {
     "name": "stdout",
     "output_type": "stream",
     "text": [
      "val loss for 850: 0.9029468894004822\n",
      "train loss for 850: 0.8917335294117648\n"
     ]
    },
    {
     "name": "stderr",
     "output_type": "stream",
     "text": [
      "100%|███████████████████████████████████████████████████████████████████████████████████████████████████████████████████████████████████████| 1509/1509 [02:06<00:00, 11.91it/s]\n"
     ]
    },
    {
     "name": "stdout",
     "output_type": "stream",
     "text": [
      "val loss for 900: 0.9030705690383911\n",
      "train loss for 900: 0.889673111111111\n"
     ]
    },
    {
     "name": "stderr",
     "output_type": "stream",
     "text": [
      "100%|███████████████████████████████████████████████████████████████████████████████████████████████████████████████████████████████████████| 1509/1509 [02:07<00:00, 11.85it/s]\n"
     ]
    },
    {
     "name": "stdout",
     "output_type": "stream",
     "text": [
      "val loss for 950: 0.9028287529945374\n",
      "train loss for 950: 0.8878443157894736\n"
     ]
    },
    {
     "name": "stderr",
     "output_type": "stream",
     "text": [
      "100%|███████████████████████████████████████████████████████████████████████████████████████████████████████████████████████████████████████| 1509/1509 [02:06<00:00, 11.96it/s]\n"
     ]
    },
    {
     "name": "stdout",
     "output_type": "stream",
     "text": [
      "val loss for 1000: 0.9027019143104553\n",
      "train loss for 1000: 0.8862827\n"
     ]
    },
    {
     "data": {
      "image/png": "[encoded data removed]",
      "text/plain": [
       "<Figure size 1000x600 with 1 Axes>"
      ]
     },
     "metadata": {},
     "output_type": "display_data"
    }
   ],
   "source": [
    "checkpoint_path_dir = '/home/gayal/ssl-project/PatchTST/PatchTST_self_supervised/saved_models/test_run_10_recordings/outputs/'#'checkpoint-50'\n",
    "\n",
    "import os\n",
    "import json\n",
    "import numpy as np\n",
    "import matplotlib.pyplot as plt\n",
    "\n",
    "checkpoint_steps = 50\n",
    "train_steps = 1000\n",
    "\n",
    "train_losses = []\n",
    "val_losses = []\n",
    "\n",
    "for check_step in range(checkpoint_steps, train_steps+checkpoint_steps, checkpoint_steps):\n",
    "    check_path = f\"checkpoint-{check_step}\"\n",
    "    check_dir = os.path.join(checkpoint_path_dir, check_path)\n",
    "\n",
    "\n",
    "    model = PatchTSTForPretraining.from_pretrained(check_dir)\n",
    "    avg_loss = evaluate_model(model, dataloader, mask_ratio)\n",
    "    print(f\"val loss for {check_step}: {avg_loss}\")\n",
    "    val_losses.append(avg_loss.cpu().numpy())\n",
    "\n",
    "    train_loss_path = os.path.join(check_dir, \"trainer_state.json\")\n",
    "    train_loss = get_train_loss(train_loss_path)\n",
    "    print(f\"train loss for {check_step}: {train_loss}\")\n",
    "    train_losses.append(train_loss)\n",
    "\n",
    "\n",
    "import matplotlib.pyplot as plt\n",
    "import numpy as np\n",
    "\n",
    "# Plotting the training and validation losses\n",
    "plt.figure(figsize=(10, 6))\n",
    "plt.plot(np.arange(checkpoint_steps, train_steps+checkpoint_steps, checkpoint_steps), train_losses, label='Training Loss', marker='o')\n",
    "plt.plot(np.arange(checkpoint_steps, train_steps+checkpoint_steps, checkpoint_steps), val_losses, label='Validation Loss', marker='o')\n",
    "plt.xlabel('Training Steps')\n",
    "plt.ylabel('Loss')\n",
    "plt.title('Training and Validation Losses')\n",
    "plt.legend()\n",
    "plt.grid()\n",
    "plt.savefig('loss_plot.png')\n",
    "plt.show()\n"
   ]
  },
  {
   "cell_type": "code",
   "execution_count": 49,
   "metadata": {},
   "outputs": [
    {
     "name": "stdout",
     "output_type": "stream",
     "text": [
      "[0.9725480000000001, 0.9642529999999999, 0.9558639999999999, 0.9475159999999999, 0.9408023999999999, 0.9356136666666667, 0.9302571428571428, 0.9242170000000001, 0.9186877777777778, 0.9136618, 0.9091965454545455, 0.9052633333333333, 0.9017695384615384, 0.8988635714285715, 0.8961725333333334, 0.89382625, 0.8917335294117648, 0.889673111111111, 0.8878443157894736, 0.8862827] [array(0.96480536, dtype=float32), array(0.9589797, dtype=float32), array(0.9444891, dtype=float32), array(0.93678534, dtype=float32), array(0.9330003, dtype=float32), array(0.9286779, dtype=float32), array(0.92057765, dtype=float32), array(0.9120143, dtype=float32), array(0.9090308, dtype=float32), array(0.9079263, dtype=float32), array(0.9068705, dtype=float32), array(0.90516555, dtype=float32), array(0.9047986, dtype=float32), array(0.90398425, dtype=float32), array(0.9032054, dtype=float32), array(0.9028677, dtype=float32), array(0.9029469, dtype=float32), array(0.90307057, dtype=float32), array(0.90282875, dtype=float32), array(0.9027019, dtype=float32)]\n"
     ]
    }
   ],
   "source": [
    "print(train_losses, val_losses)"
   ]
  },
  {
   "cell_type": "code",
   "execution_count": 50,
   "metadata": {},
   "outputs": [
    {
     "name": "stderr",
     "output_type": "stream",
     "text": [
      "100%|███████████████████████████████████████████████████████████████████████████████████████████████████████████████████████████████████████| 1509/1509 [02:06<00:00, 11.90it/s]\n"
     ]
    },
    {
     "name": "stdout",
     "output_type": "stream",
     "text": [
      "val loss for 500: 0.9202723503112793\n",
      "train loss for 500: 0.9236007999999999\n"
     ]
    },
    {
     "name": "stderr",
     "output_type": "stream",
     "text": [
      "100%|███████████████████████████████████████████████████████████████████████████████████████████████████████████████████████████████████████| 1509/1509 [02:08<00:00, 11.76it/s]\n"
     ]
    },
    {
     "name": "stdout",
     "output_type": "stream",
     "text": [
      "val loss for 1000: 0.8984572887420654\n",
      "train loss for 1000: 0.8925623\n"
     ]
    },
    {
     "name": "stderr",
     "output_type": "stream",
     "text": [
      "100%|███████████████████████████████████████████████████████████████████████████████████████████████████████████████████████████████████████| 1509/1509 [02:08<00:00, 11.76it/s]\n"
     ]
    },
    {
     "name": "stdout",
     "output_type": "stream",
     "text": [
      "val loss for 1500: 0.8900235295295715\n",
      "train loss for 1500: 0.8730424\n"
     ]
    },
    {
     "name": "stderr",
     "output_type": "stream",
     "text": [
      "100%|███████████████████████████████████████████████████████████████████████████████████████████████████████████████████████████████████████| 1509/1509 [02:00<00:00, 12.54it/s]\n"
     ]
    },
    {
     "name": "stdout",
     "output_type": "stream",
     "text": [
      "val loss for 2000: 0.8855701684951782\n",
      "train loss for 2000: 0.85983805\n"
     ]
    },
    {
     "name": "stderr",
     "output_type": "stream",
     "text": [
      "100%|███████████████████████████████████████████████████████████████████████████████████████████████████████████████████████████████████████| 1509/1509 [02:01<00:00, 12.41it/s]\n"
     ]
    },
    {
     "name": "stdout",
     "output_type": "stream",
     "text": [
      "val loss for 2500: 0.8827506303787231\n",
      "train loss for 2500: 0.8493079600000001\n"
     ]
    },
    {
     "name": "stderr",
     "output_type": "stream",
     "text": [
      "100%|███████████████████████████████████████████████████████████████████████████████████████████████████████████████████████████████████████| 1509/1509 [02:05<00:00, 12.05it/s]\n"
     ]
    },
    {
     "name": "stdout",
     "output_type": "stream",
     "text": [
      "val loss for 3000: 0.8806261420249939\n",
      "train loss for 3000: 0.8404429999999999\n"
     ]
    },
    {
     "name": "stderr",
     "output_type": "stream",
     "text": [
      "100%|███████████████████████████████████████████████████████████████████████████████████████████████████████████████████████████████████████| 1509/1509 [02:04<00:00, 12.13it/s]\n"
     ]
    },
    {
     "name": "stdout",
     "output_type": "stream",
     "text": [
      "val loss for 3500: 0.8792705535888672\n",
      "train loss for 3500: 0.8327544571428571\n"
     ]
    },
    {
     "name": "stderr",
     "output_type": "stream",
     "text": [
      "100%|███████████████████████████████████████████████████████████████████████████████████████████████████████████████████████████████████████| 1509/1509 [02:08<00:00, 11.77it/s]\n"
     ]
    },
    {
     "name": "stdout",
     "output_type": "stream",
     "text": [
      "val loss for 4000: 0.8783349394798279\n",
      "train loss for 4000: 0.826145725\n"
     ]
    },
    {
     "name": "stderr",
     "output_type": "stream",
     "text": [
      "100%|███████████████████████████████████████████████████████████████████████████████████████████████████████████████████████████████████████| 1509/1509 [02:03<00:00, 12.21it/s]\n"
     ]
    },
    {
     "name": "stdout",
     "output_type": "stream",
     "text": [
      "val loss for 4500: 0.8764780163764954\n",
      "train loss for 4500: 0.8202885555555556\n"
     ]
    },
    {
     "name": "stderr",
     "output_type": "stream",
     "text": [
      "100%|███████████████████████████████████████████████████████████████████████████████████████████████████████████████████████████████████████| 1509/1509 [02:05<00:00, 12.06it/s]\n"
     ]
    },
    {
     "name": "stdout",
     "output_type": "stream",
     "text": [
      "val loss for 5000: 0.8749963045120239\n",
      "train loss for 5000: 0.8152516599999999\n"
     ]
    },
    {
     "name": "stderr",
     "output_type": "stream",
     "text": [
      "100%|███████████████████████████████████████████████████████████████████████████████████████████████████████████████████████████████████████| 1509/1509 [01:59<00:00, 12.64it/s]\n"
     ]
    },
    {
     "name": "stdout",
     "output_type": "stream",
     "text": [
      "val loss for 5500: 0.8742796182632446\n",
      "train loss for 5500: 0.8107981090909092\n"
     ]
    },
    {
     "name": "stderr",
     "output_type": "stream",
     "text": [
      "100%|███████████████████████████████████████████████████████████████████████████████████████████████████████████████████████████████████████| 1509/1509 [02:07<00:00, 11.82it/s]\n"
     ]
    },
    {
     "name": "stdout",
     "output_type": "stream",
     "text": [
      "val loss for 6000: 0.8737814426422119\n",
      "train loss for 6000: 0.8068208833333333\n"
     ]
    },
    {
     "name": "stderr",
     "output_type": "stream",
     "text": [
      "100%|███████████████████████████████████████████████████████████████████████████████████████████████████████████████████████████████████████| 1509/1509 [02:08<00:00, 11.78it/s]\n"
     ]
    },
    {
     "name": "stdout",
     "output_type": "stream",
     "text": [
      "val loss for 6500: 0.8730295896530151\n",
      "train loss for 6500: 0.8031917384615385\n"
     ]
    },
    {
     "name": "stderr",
     "output_type": "stream",
     "text": [
      "100%|███████████████████████████████████████████████████████████████████████████████████████████████████████████████████████████████████████| 1509/1509 [02:04<00:00, 12.11it/s]\n"
     ]
    },
    {
     "name": "stdout",
     "output_type": "stream",
     "text": [
      "val loss for 7000: 0.8724343180656433\n",
      "train loss for 7000: 0.7999894428571429\n"
     ]
    },
    {
     "name": "stderr",
     "output_type": "stream",
     "text": [
      "100%|███████████████████████████████████████████████████████████████████████████████████████████████████████████████████████████████████████| 1509/1509 [02:05<00:00, 12.02it/s]\n"
     ]
    },
    {
     "name": "stdout",
     "output_type": "stream",
     "text": [
      "val loss for 7500: 0.8721868395805359\n",
      "train loss for 7500: 0.7971606933333334\n"
     ]
    },
    {
     "name": "stderr",
     "output_type": "stream",
     "text": [
      "100%|███████████████████████████████████████████████████████████████████████████████████████████████████████████████████████████████████████| 1509/1509 [02:05<00:00, 12.02it/s]\n"
     ]
    },
    {
     "name": "stdout",
     "output_type": "stream",
     "text": [
      "val loss for 8000: 0.8718835115432739\n",
      "train loss for 8000: 0.7945812000000001\n"
     ]
    },
    {
     "name": "stderr",
     "output_type": "stream",
     "text": [
      "100%|███████████████████████████████████████████████████████████████████████████████████████████████████████████████████████████████████████| 1509/1509 [02:03<00:00, 12.17it/s]\n"
     ]
    },
    {
     "name": "stdout",
     "output_type": "stream",
     "text": [
      "val loss for 8500: 0.8716827034950256\n",
      "train loss for 8500: 0.7923771176470589\n"
     ]
    },
    {
     "name": "stderr",
     "output_type": "stream",
     "text": [
      "100%|███████████████████████████████████████████████████████████████████████████████████████████████████████████████████████████████████████| 1509/1509 [02:07<00:00, 11.88it/s]\n"
     ]
    },
    {
     "name": "stdout",
     "output_type": "stream",
     "text": [
      "val loss for 9000: 0.8717732429504395\n",
      "train loss for 9000: 0.7904166\n"
     ]
    },
    {
     "name": "stderr",
     "output_type": "stream",
     "text": [
      "100%|███████████████████████████████████████████████████████████████████████████████████████████████████████████████████████████████████████| 1509/1509 [02:07<00:00, 11.80it/s]\n"
     ]
    },
    {
     "name": "stdout",
     "output_type": "stream",
     "text": [
      "val loss for 9500: 0.8716552257537842\n",
      "train loss for 9500: 0.7886083789473685\n"
     ]
    },
    {
     "name": "stderr",
     "output_type": "stream",
     "text": [
      "100%|███████████████████████████████████████████████████████████████████████████████████████████████████████████████████████████████████████| 1509/1509 [02:06<00:00, 11.97it/s]\n"
     ]
    },
    {
     "name": "stdout",
     "output_type": "stream",
     "text": [
      "val loss for 10000: 0.8717478513717651\n",
      "train loss for 10000: 0.7869834\n"
     ]
    },
    {
     "data": {
      "image/png": "[encoded data removed]",
      "text/plain": [
       "<Figure size 1000x600 with 1 Axes>"
      ]
     },
     "metadata": {},
     "output_type": "display_data"
    },
    {
     "name": "stdout",
     "output_type": "stream",
     "text": [
      "[0.9236007999999999, 0.8925623, 0.8730424, 0.85983805, 0.8493079600000001, 0.8404429999999999, 0.8327544571428571, 0.826145725, 0.8202885555555556, 0.8152516599999999, 0.8107981090909092, 0.8068208833333333, 0.8031917384615385, 0.7999894428571429, 0.7971606933333334, 0.7945812000000001, 0.7923771176470589, 0.7904166, 0.7886083789473685, 0.7869834] [array(0.92027235, dtype=float32), array(0.8984573, dtype=float32), array(0.8900235, dtype=float32), array(0.88557017, dtype=float32), array(0.88275063, dtype=float32), array(0.88062614, dtype=float32), array(0.87927055, dtype=float32), array(0.87833494, dtype=float32), array(0.876478, dtype=float32), array(0.8749963, dtype=float32), array(0.8742796, dtype=float32), array(0.87378144, dtype=float32), array(0.8730296, dtype=float32), array(0.8724343, dtype=float32), array(0.87218684, dtype=float32), array(0.8718835, dtype=float32), array(0.8716827, dtype=float32), array(0.87177324, dtype=float32), array(0.8716552, dtype=float32), array(0.87174785, dtype=float32)]\n"
     ]
    }
   ],
   "source": [
    "checkpoint_path_dir = '/home/gayal/ssl-project/PatchTST/PatchTST_self_supervised/saved_models/test_run_10_recordings_10k/outputs/'#'checkpoint-50'\n",
    "\n",
    "import os\n",
    "import json\n",
    "import numpy as np\n",
    "import matplotlib.pyplot as plt\n",
    "\n",
    "checkpoint_steps = 500\n",
    "train_steps = 10000\n",
    "\n",
    "train_losses = []\n",
    "val_losses = []\n",
    "\n",
    "for check_step in range(checkpoint_steps, train_steps+checkpoint_steps, checkpoint_steps):\n",
    "    check_path = f\"checkpoint-{check_step}\"\n",
    "    check_dir = os.path.join(checkpoint_path_dir, check_path)\n",
    "\n",
    "\n",
    "    model = PatchTSTForPretraining.from_pretrained(check_dir)\n",
    "    avg_loss = evaluate_model(model, dataloader, mask_ratio)\n",
    "    print(f\"val loss for {check_step}: {avg_loss}\")\n",
    "    val_losses.append(avg_loss.cpu().numpy())\n",
    "\n",
    "    train_loss_path = os.path.join(check_dir, \"trainer_state.json\")\n",
    "    train_loss = get_train_loss(train_loss_path)\n",
    "    print(f\"train loss for {check_step}: {train_loss}\")\n",
    "    train_losses.append(train_loss)\n",
    "\n",
    "\n",
    "import matplotlib.pyplot as plt\n",
    "import numpy as np\n",
    "\n",
    "# Plotting the training and validation losses\n",
    "plt.figure(figsize=(10, 6))\n",
    "plt.plot(np.arange(checkpoint_steps, train_steps+checkpoint_steps, checkpoint_steps), train_losses, label='Training Loss', marker='o')\n",
    "plt.plot(np.arange(checkpoint_steps, train_steps+checkpoint_steps, checkpoint_steps), val_losses, label='Validation Loss', marker='o')\n",
    "plt.xlabel('Training Steps')\n",
    "plt.ylabel('Loss')\n",
    "plt.title('Training and Validation Losses')\n",
    "plt.legend()\n",
    "plt.grid()\n",
    "plt.savefig('loss_plot.png')\n",
    "plt.show()\n",
    "\n",
    "print(train_losses, val_losses)"
   ]
  },
  {
   "cell_type": "code",
   "execution_count": null,
   "metadata": {},
   "outputs": [],
   "source": []
  }
 ],
 "metadata": {
  "kernelspec": {
   "display_name": "Python 3 (ipykernel)",
   "language": "python",
   "name": "python3"
  },
  "language_info": {
   "codemirror_mode": {
    "name": "ipython",
    "version": 3
   },
   "file_extension": ".py",
   "mimetype": "text/x-python",
   "name": "python",
   "nbconvert_exporter": "python",
   "pygments_lexer": "ipython3",
   "version": "3.8.5"
  }
 },
 "nbformat": 4,
 "nbformat_minor": 4
}
